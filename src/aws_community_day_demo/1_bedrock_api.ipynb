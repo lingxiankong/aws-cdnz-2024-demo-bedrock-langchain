{
 "cells": [
  {
   "cell_type": "code",
   "id": "faad1e5c",
   "metadata": {
    "vscode": {
     "languageId": "shellscript"
    }
   },
   "source": [
    "!aws bedrock list-foundation-models | jq -r '.modelSummaries[] | .modelId'"
   ],
   "outputs": [],
   "execution_count": null
  },
  {
   "cell_type": "code",
   "id": "initial_id",
   "metadata": {
    "collapsed": true
   },
   "source": [
    "from dotenv import load_dotenv\n",
    "\n",
    "\n",
    "load_dotenv(override=True)"
   ],
   "outputs": [],
   "execution_count": null
  },
  {
   "cell_type": "markdown",
   "id": "afb22ef5ca38c8d0",
   "metadata": {},
   "source": "## Bedrock Converse API"
  },
  {
   "cell_type": "code",
   "id": "1718903674364ed1",
   "metadata": {},
   "source": [
    "import boto3\n",
    "\n",
    "model = \"anthropic.claude-3-sonnet-20240229-v1:0\"\n",
    "region = \"ap-southeast-2\"\n",
    "client = boto3.client(\"bedrock-runtime\", region_name=region)"
   ],
   "outputs": [],
   "execution_count": null
  },
  {
   "cell_type": "code",
   "id": "3b2d3139ef39530b",
   "metadata": {
    "ExecuteTime": {
     "end_time": "2024-08-06T10:48:02.309087Z",
     "start_time": "2024-08-06T10:47:57.606280Z"
    }
   },
   "source": [
    "question = \"What is AWS Community Day New Zealand 2024?\"\n",
    "\n",
    "messages = [\n",
    "    {\n",
    "        \"role\": \"user\",\n",
    "        \"content\": [{\"text\": question}],\n",
    "    }\n",
    "]\n",
    "\n",
    "try:\n",
    "    # Converse provides a consistent interface that works with all models\n",
    "    response = client.converse(\n",
    "        modelId=model, messages=messages, inferenceConfig={\"maxTokens\": 512, \"temperature\": 0.1}\n",
    "    )\n",
    "except Exception as e:\n",
    "    print(f\"ERROR: Can't invoke '{model}'. Reason: {e}\")\n",
    "    exit(1)"
   ],
   "outputs": [],
   "execution_count": 11
  },
  {
   "cell_type": "code",
   "id": "2af343f0",
   "metadata": {},
   "source": "response",
   "outputs": [],
   "execution_count": null
  },
  {
   "cell_type": "code",
   "id": "8d7a4792e3284706",
   "metadata": {
    "ExecuteTime": {
     "end_time": "2024-08-06T10:48:07.712676Z",
     "start_time": "2024-08-06T10:48:07.709124Z"
    }
   },
   "source": "print(response[\"output\"][\"message\"][\"content\"][0][\"text\"])",
   "outputs": [
    {
     "name": "stdout",
     "output_type": "stream",
     "text": [
      "Unfortunately, I don't have any specific information about an \"AWS Community Day New Zealand 2024\" event. AWS (Amazon Web Services) does organize various community events and conferences around the world, but details about events that far in the future are usually not announced yet.\n",
      "\n",
      "AWS Community Days are regional events hosted by AWS for cloud computing enthusiasts, developers, solutions architects and customers. They typically feature technical sessions, hands-on workshops, and opportunities to network and learn about AWS services and best practices.\n",
      "\n",
      "However, without more context, I can't provide accurate details about a 2024 event in New Zealand specifically. The AWS events website and local AWS user groups would be the best sources to check for any future announcements about community events being planned in that region for 2024. AWS community events are usually announced 6-12 months in advance.\n"
     ]
    }
   ],
   "execution_count": 12
  }
 ],
 "metadata": {
  "kernelspec": {
   "display_name": "Python 3",
   "language": "python",
   "name": "python3"
  },
  "language_info": {
   "codemirror_mode": {
    "name": "ipython",
    "version": 3
   },
   "file_extension": ".py",
   "mimetype": "text/x-python",
   "name": "python",
   "nbconvert_exporter": "python",
   "pygments_lexer": "ipython3",
   "version": "3.12.3"
  }
 },
 "nbformat": 4,
 "nbformat_minor": 5
}
