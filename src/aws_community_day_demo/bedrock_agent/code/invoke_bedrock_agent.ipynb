{
 "cells": [
  {
   "cell_type": "markdown",
   "id": "b3798afb",
   "metadata": {},
   "source": [
    "The AWS CLI doesn't support InvokeAgent."
   ]
  },
  {
   "cell_type": "code",
   "id": "initial_id",
   "metadata": {
    "collapsed": true
   },
   "source": [
    "import os\n",
    "import sys\n",
    "from dotenv import load_dotenv, find_dotenv\n",
    "\n",
    "if os.path.dirname(find_dotenv()) not in sys.path:\n",
    "    sys.path.append(os.path.dirname(find_dotenv()))\n",
    "\n",
    "from src.utils import debug as debug_util\n",
    "\n",
    "load_dotenv(override=True)"
   ],
   "outputs": [],
   "execution_count": null
  },
  {
   "cell_type": "code",
   "id": "ac780a75",
   "metadata": {},
   "source": [
    "import uuid\n",
    "import boto3\n",
    "from botocore.exceptions import ClientError\n",
    "\n",
    "bedrock_agent_client = boto3.client(service_name=\"bedrock-agent\", region_name=os.environ.get(\"AWS_DEFAULT_REGION\"))\n",
    "bedrock_agent_runtime_client = boto3.client(\n",
    "    service_name=\"bedrock-agent-runtime\", region_name=os.environ.get(\"AWS_DEFAULT_REGION\")\n",
    ")\n",
    "agent_id = \"R93VRMZXMC\"\n",
    "session_id = uuid.uuid4().hex"
   ],
   "outputs": [],
   "execution_count": null
  },
  {
   "metadata": {},
   "cell_type": "markdown",
   "source": "Prepare the agent before invoking it.",
   "id": "1220b3fa33094fae"
  },
  {
   "cell_type": "code",
   "id": "2416ef33",
   "metadata": {},
   "source": [
    "try:\n",
    "    response = bedrock_agent_client.get_agent(agentId=agent_id)\n",
    "    agent = response[\"agent\"]\n",
    "    # debug_util.print_msg(str(agent), \"Agent Info\")\n",
    "\n",
    "    if agent[\"agentStatus\"] != \"PREPARED\":\n",
    "        bedrock_agent_client.prepare_agent(agentId=agent_id)\n",
    "\n",
    "    print(f\"Agent {agent[\"agentArn\"]} is ready!\")\n",
    "except ClientError as e:\n",
    "    debug_util.print_msg(f\"Agent operation error: {e}\", color=\"red\")"
   ],
   "outputs": [],
   "execution_count": null
  },
  {
   "metadata": {},
   "cell_type": "code",
   "source": [
    "question = \"How can I create an EC2 instance?\"\n",
    "\n",
    "response = bedrock_agent_runtime_client.invoke_agent(\n",
    "    agentId=agent_id,\n",
    "    agentAliasId=\"TSTALIASID\",\n",
    "    sessionId=session_id,\n",
    "    inputText=question,\n",
    ")"
   ],
   "id": "d78b3bc2fb1a456a",
   "outputs": [],
   "execution_count": null
  },
  {
   "metadata": {},
   "cell_type": "code",
   "source": [
    "result = \"\"\n",
    "\n",
    "for event in response.get(\"completion\"):\n",
    "    chunk = event[\"chunk\"]\n",
    "    result += chunk[\"bytes\"].decode()\n",
    "\n",
    "print(result)"
   ],
   "id": "5160881fa4a515d3",
   "outputs": [],
   "execution_count": null
  }
 ],
 "metadata": {
  "kernelspec": {
   "display_name": "Python 3",
   "language": "python",
   "name": "python3"
  },
  "language_info": {
   "codemirror_mode": {
    "name": "ipython",
    "version": 2
   },
   "file_extension": ".py",
   "mimetype": "text/x-python",
   "name": "python",
   "nbconvert_exporter": "python",
   "pygments_lexer": "ipython2",
   "version": "2.7.6"
  }
 },
 "nbformat": 4,
 "nbformat_minor": 5
}
