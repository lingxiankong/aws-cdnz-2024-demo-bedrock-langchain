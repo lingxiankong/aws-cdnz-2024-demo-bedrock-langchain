{
 "cells": [
  {
   "cell_type": "code",
   "id": "initial_id",
   "metadata": {
    "collapsed": true
   },
   "source": [
    "import os\n",
    "import sys\n",
    "\n",
    "from dotenv import find_dotenv, load_dotenv\n",
    "\n",
    "if os.path.dirname(find_dotenv()) not in sys.path:\n",
    "    sys.path.append(os.path.dirname(find_dotenv()))\n",
    "\n",
    "from src.utils import llm as llm_util\n",
    "from src.utils import debug as debug_util\n",
    "\n",
    "load_dotenv(override=True)\n",
    "VERBOSE = debug_util.string_to_bool(os.environ.get(\"VERBOSE\"))\n",
    "\n",
    "llm = llm_util.create_llm(\"openai\", \"gpt-3.5-turbo\", verbose=VERBOSE, temperature=0)"
   ],
   "execution_count": null,
   "outputs": []
  },
  {
   "metadata": {},
   "cell_type": "markdown",
   "source": "## Tools",
   "id": "855a08d8dbfdc6e2"
  },
  {
   "metadata": {},
   "cell_type": "code",
   "source": [
    "import uuid\n",
    "\n",
    "import boto3\n",
    "from langchain_core.tools import tool\n",
    "from langchain_core.messages import HumanMessage\n",
    "from langchain_community.tools import DuckDuckGoSearchRun\n",
    "\n",
    "\n",
    "bedrock_agent_runtime_client = boto3.client(\n",
    "    service_name=\"bedrock-agent-runtime\", region_name=os.environ.get(\"AWS_DEFAULT_REGION\")\n",
    ")\n",
    "agent_id = \"FPS14ZUTG8\"\n",
    "session_id = uuid.uuid4().hex\n",
    "\n",
    "\n",
    "@tool\n",
    "def query_aws(question: str) -> str:\n",
    "    \"\"\"Useful to answer questions about EC2 instance.\n",
    "\n",
    "    :param question: An EC2 relevant question.\n",
    "    :return: The answer to the queston.\n",
    "    \"\"\"\n",
    "    response = bedrock_agent_runtime_client.invoke_agent(\n",
    "        agentId=agent_id,\n",
    "        agentAliasId=\"TSTALIASID\",\n",
    "        sessionId=session_id,\n",
    "        inputText=question,\n",
    "    )\n",
    "\n",
    "    result = \"\"\n",
    "\n",
    "    for event in response.get(\"completion\"):\n",
    "        chunk = event[\"chunk\"]\n",
    "        result += chunk[\"bytes\"].decode()\n",
    "\n",
    "    return result\n",
    "\n",
    "\n",
    "tools = [DuckDuckGoSearchRun(), query_aws]"
   ],
   "id": "15597798b637f9d2",
   "outputs": [],
   "execution_count": null
  },
  {
   "metadata": {},
   "cell_type": "markdown",
   "source": "## Agent",
   "id": "78ce4e11d1c14a10"
  },
  {
   "metadata": {},
   "cell_type": "code",
   "source": [
    "from langgraph.prebuilt import create_react_agent\n",
    "\n",
    "react_agent = create_react_agent(llm, tools)"
   ],
   "id": "5f9e38e8c2f2ae33",
   "outputs": [],
   "execution_count": null
  },
  {
   "metadata": {},
   "cell_type": "code",
   "source": [
    "question = \"How can I create an EC2 instance?\"\n",
    "# question = \"Find information about AWS Community Day New Zealand 2024\""
   ],
   "id": "8b7a48f8c4d0cf0",
   "outputs": [],
   "execution_count": null
  },
  {
   "metadata": {},
   "cell_type": "code",
   "source": "res = react_agent.invoke({\"messages\": [HumanMessage(content=question)]})",
   "id": "164b58b0f3b70735",
   "outputs": [],
   "execution_count": null
  },
  {
   "metadata": {},
   "cell_type": "code",
   "source": "res[\"messages\"][-1].pretty_print()",
   "id": "63fba7dad39f1668",
   "outputs": [],
   "execution_count": null
  },
  {
   "metadata": {},
   "cell_type": "code",
   "source": [
    "for chunk in react_agent.stream({\"messages\": [HumanMessage(content=question)]}):\n",
    "    for key, value in chunk.items():\n",
    "        print(f\"Output from node '{key}':\")\n",
    "        value[\"messages\"][-1].pretty_print()\n",
    "        print(\"\\n---\\n\")"
   ],
   "id": "323ca6a917f97872",
   "outputs": [],
   "execution_count": null
  },
  {
   "metadata": {},
   "cell_type": "markdown",
   "source": [
    "## Tracing\n",
    "\n",
    "LangSmith: <https://smith.langchain.com/o/9efc60a1-b662-5c22-ad65-9b96d88de54e/>"
   ],
   "id": "b734a5a0603628ee"
  }
 ],
 "metadata": {
  "kernelspec": {
   "display_name": "Python 3",
   "language": "python",
   "name": "python3"
  },
  "language_info": {
   "codemirror_mode": {
    "name": "ipython",
    "version": 2
   },
   "file_extension": ".py",
   "mimetype": "text/x-python",
   "name": "python",
   "nbconvert_exporter": "python",
   "pygments_lexer": "ipython2",
   "version": "2.7.6"
  }
 },
 "nbformat": 4,
 "nbformat_minor": 5
}
