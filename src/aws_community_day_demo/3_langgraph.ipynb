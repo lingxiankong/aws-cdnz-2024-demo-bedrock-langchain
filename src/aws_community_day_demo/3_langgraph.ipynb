{
 "cells": [
  {
   "cell_type": "code",
   "id": "initial_id",
   "metadata": {
    "collapsed": true
   },
   "source": [
    "import os\n",
    "import sys\n",
    "\n",
    "from dotenv import find_dotenv, load_dotenv\n",
    "\n",
    "if os.path.dirname(find_dotenv()) not in sys.path:\n",
    "    sys.path.append(os.path.dirname(find_dotenv()))\n",
    "\n",
    "from src.utils import llm as llm_util\n",
    "from src.utils import debug as debug_util\n",
    "\n",
    "load_dotenv(override=True)\n",
    "VERBOSE = debug_util.string_to_bool(os.environ.get(\"VERBOSE\"))\n",
    "llm_openai = llm_util.create_llm(\"openai\", \"gpt-3.5-turbo\", verbose=VERBOSE)"
   ],
   "outputs": [],
   "execution_count": null
  },
  {
   "metadata": {},
   "cell_type": "markdown",
   "source": "## Agent",
   "id": "855a08d8dbfdc6e2"
  },
  {
   "metadata": {},
   "cell_type": "code",
   "source": [
    "import uuid\n",
    "\n",
    "import boto3\n",
    "from langchain_core.tools import tool\n",
    "from langchain_community.tools.tavily_search import TavilySearchResults\n",
    "from langgraph.prebuilt import create_react_agent\n",
    "from langchain_core.messages import HumanMessage\n",
    "\n",
    "\n",
    "bedrock_agent_runtime_client = boto3.client(\n",
    "    service_name=\"bedrock-agent-runtime\", region_name=os.environ.get(\"AWS_DEFAULT_REGION\")\n",
    ")\n",
    "agent_id = \"R93VRMZXMC\"\n",
    "session_id = uuid.uuid4().hex\n",
    "\n",
    "\n",
    "@tool\n",
    "def query_aws(question: str) -> str:\n",
    "    \"\"\"Useful to answer questions about EC2 instance.\n",
    "\n",
    "    :param question: An EC2 relevant question.\n",
    "    :return: The answer to the queston.\n",
    "    \"\"\"\n",
    "    response = bedrock_agent_runtime_client.invoke_agent(\n",
    "        agentId=agent_id,\n",
    "        agentAliasId=\"TSTALIASID\",\n",
    "        sessionId=session_id,\n",
    "        inputText=question,\n",
    "    )\n",
    "\n",
    "    result = \"\"\n",
    "\n",
    "    for event in response.get(\"completion\"):\n",
    "        chunk = event[\"chunk\"]\n",
    "        result += chunk[\"bytes\"].decode()\n",
    "\n",
    "    return result\n",
    "\n",
    "\n",
    "tools = [TavilySearchResults(max_results=1), query_aws]\n",
    "\n",
    "react_agent = create_react_agent(llm_openai, tools)"
   ],
   "id": "5f9e38e8c2f2ae33",
   "outputs": [],
   "execution_count": null
  },
  {
   "metadata": {},
   "cell_type": "code",
   "source": [
    "question = \"How can I create an EC2 instance?\"\n",
    "# question = \"Find information about AWS Community Day New Zealand 2024\"\n",
    "\n",
    "res = react_agent.invoke({\"messages\": [HumanMessage(content=question)]})"
   ],
   "id": "164b58b0f3b70735",
   "outputs": [],
   "execution_count": null
  },
  {
   "metadata": {},
   "cell_type": "code",
   "source": "res[\"messages\"][-1].pretty_print()",
   "id": "63fba7dad39f1668",
   "outputs": [],
   "execution_count": null
  },
  {
   "metadata": {},
   "cell_type": "code",
   "source": [
    "config = {\"configurable\": {\"thread_id\": \"abc123\"}}\n",
    "for events in react_agent.stream({\"messages\": [HumanMessage(content=question)]}, config):\n",
    "    for key, value in events.items():\n",
    "        print(f\"Output from node '{key}':\")\n",
    "        print(value[\"messages\"][-1].pretty_print())\n",
    "    print(\"\\n---\\n\")"
   ],
   "id": "323ca6a917f97872",
   "outputs": [],
   "execution_count": null
  }
 ],
 "metadata": {
  "kernelspec": {
   "display_name": "Python 3",
   "language": "python",
   "name": "python3"
  },
  "language_info": {
   "codemirror_mode": {
    "name": "ipython",
    "version": 2
   },
   "file_extension": ".py",
   "mimetype": "text/x-python",
   "name": "python",
   "nbconvert_exporter": "python",
   "pygments_lexer": "ipython2",
   "version": "2.7.6"
  }
 },
 "nbformat": 4,
 "nbformat_minor": 5
}
